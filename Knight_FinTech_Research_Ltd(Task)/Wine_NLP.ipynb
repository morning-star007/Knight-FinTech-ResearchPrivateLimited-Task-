{
  "nbformat": 4,
  "nbformat_minor": 0,
  "metadata": {
    "kernelspec": {
      "display_name": "Python 3",
      "language": "python",
      "name": "python3"
    },
    "language_info": {
      "name": "python",
      "version": "3.6.4",
      "mimetype": "text/x-python",
      "codemirror_mode": {
        "name": "ipython",
        "version": 3
      },
      "pygments_lexer": "ipython3",
      "nbconvert_exporter": "python",
      "file_extension": ".py"
    },
    "colab": {
      "name": "Wine_NLP.ipynb",
      "provenance": [],
      "collapsed_sections": [],
      "toc_visible": true
    }
  },
  "cells": [
    {
      "cell_type": "markdown",
      "metadata": {
        "_uuid": "a8a7c6528e9923407a2ac42471bffeaf3ee32679",
        "id": "U-_ayycikQbu",
        "colab_type": "text"
      },
      "source": [
        "# Predicting points based on description (NLP) and other features with Catboost"
      ]
    },
    {
      "cell_type": "code",
      "metadata": {
        "id": "xWcasdVqmJyx",
        "colab_type": "code",
        "outputId": "025764ff-8941-4231-fa9c-585652c83ea7",
        "colab": {
          "base_uri": "https://localhost:8080/",
          "height": 139
        }
      },
      "source": [
        "pip install q nltk"
      ],
      "execution_count": 1,
      "outputs": [
        {
          "output_type": "stream",
          "text": [
            "Collecting q\n",
            "  Downloading https://files.pythonhosted.org/packages/53/bc/51619d89e0bd855567e7652fa16d06f1ed36a85f108a7fe71f6629bf719d/q-2.6-py2.py3-none-any.whl\n",
            "Requirement already satisfied: nltk in /usr/local/lib/python3.6/dist-packages (3.2.5)\n",
            "Requirement already satisfied: six in /usr/local/lib/python3.6/dist-packages (from nltk) (1.12.0)\n",
            "Installing collected packages: q\n",
            "Successfully installed q-2.6\n"
          ],
          "name": "stdout"
        }
      ]
    },
    {
      "cell_type": "code",
      "metadata": {
        "id": "ToO4A6qlnim3",
        "colab_type": "code",
        "outputId": "9a86fab3-2e34-4622-e084-4f4efde16511",
        "colab": {
          "base_uri": "https://localhost:8080/",
          "height": 343
        }
      },
      "source": [
        "!pip install catboost"
      ],
      "execution_count": 2,
      "outputs": [
        {
          "output_type": "stream",
          "text": [
            "Collecting catboost\n",
            "\u001b[?25l  Downloading https://files.pythonhosted.org/packages/b1/61/2b8106c8870601671d99ca94d8b8d180f2b740b7cdb95c930147508abcf9/catboost-0.23-cp36-none-manylinux1_x86_64.whl (64.7MB)\n",
            "\u001b[K     |████████████████████████████████| 64.8MB 59kB/s \n",
            "\u001b[?25hRequirement already satisfied: matplotlib in /usr/local/lib/python3.6/dist-packages (from catboost) (3.2.1)\n",
            "Requirement already satisfied: pandas>=0.24.0 in /usr/local/lib/python3.6/dist-packages (from catboost) (1.0.3)\n",
            "Requirement already satisfied: scipy in /usr/local/lib/python3.6/dist-packages (from catboost) (1.4.1)\n",
            "Requirement already satisfied: graphviz in /usr/local/lib/python3.6/dist-packages (from catboost) (0.10.1)\n",
            "Requirement already satisfied: numpy>=1.16.0 in /usr/local/lib/python3.6/dist-packages (from catboost) (1.18.4)\n",
            "Requirement already satisfied: six in /usr/local/lib/python3.6/dist-packages (from catboost) (1.12.0)\n",
            "Requirement already satisfied: plotly in /usr/local/lib/python3.6/dist-packages (from catboost) (4.4.1)\n",
            "Requirement already satisfied: kiwisolver>=1.0.1 in /usr/local/lib/python3.6/dist-packages (from matplotlib->catboost) (1.2.0)\n",
            "Requirement already satisfied: cycler>=0.10 in /usr/local/lib/python3.6/dist-packages (from matplotlib->catboost) (0.10.0)\n",
            "Requirement already satisfied: pyparsing!=2.0.4,!=2.1.2,!=2.1.6,>=2.0.1 in /usr/local/lib/python3.6/dist-packages (from matplotlib->catboost) (2.4.7)\n",
            "Requirement already satisfied: python-dateutil>=2.1 in /usr/local/lib/python3.6/dist-packages (from matplotlib->catboost) (2.8.1)\n",
            "Requirement already satisfied: pytz>=2017.2 in /usr/local/lib/python3.6/dist-packages (from pandas>=0.24.0->catboost) (2018.9)\n",
            "Requirement already satisfied: retrying>=1.3.3 in /usr/local/lib/python3.6/dist-packages (from plotly->catboost) (1.3.3)\n",
            "Installing collected packages: catboost\n",
            "Successfully installed catboost-0.23\n"
          ],
          "name": "stdout"
        }
      ]
    },
    {
      "cell_type": "code",
      "metadata": {
        "id": "LS3PiZTxm1Vt",
        "colab_type": "code",
        "outputId": "31db0001-b4cf-4d6d-aded-e8d45e70f87d",
        "colab": {
          "base_uri": "https://localhost:8080/",
          "height": 816
        }
      },
      "source": [
        "import nltk\n",
        "nltk.download(\"popular\")"
      ],
      "execution_count": 3,
      "outputs": [
        {
          "output_type": "stream",
          "text": [
            "[nltk_data] Downloading collection 'popular'\n",
            "[nltk_data]    | \n",
            "[nltk_data]    | Downloading package cmudict to /root/nltk_data...\n",
            "[nltk_data]    |   Unzipping corpora/cmudict.zip.\n",
            "[nltk_data]    | Downloading package gazetteers to /root/nltk_data...\n",
            "[nltk_data]    |   Unzipping corpora/gazetteers.zip.\n",
            "[nltk_data]    | Downloading package genesis to /root/nltk_data...\n",
            "[nltk_data]    |   Unzipping corpora/genesis.zip.\n",
            "[nltk_data]    | Downloading package gutenberg to /root/nltk_data...\n",
            "[nltk_data]    |   Unzipping corpora/gutenberg.zip.\n",
            "[nltk_data]    | Downloading package inaugural to /root/nltk_data...\n",
            "[nltk_data]    |   Unzipping corpora/inaugural.zip.\n",
            "[nltk_data]    | Downloading package movie_reviews to\n",
            "[nltk_data]    |     /root/nltk_data...\n",
            "[nltk_data]    |   Unzipping corpora/movie_reviews.zip.\n",
            "[nltk_data]    | Downloading package names to /root/nltk_data...\n",
            "[nltk_data]    |   Unzipping corpora/names.zip.\n",
            "[nltk_data]    | Downloading package shakespeare to /root/nltk_data...\n",
            "[nltk_data]    |   Unzipping corpora/shakespeare.zip.\n",
            "[nltk_data]    | Downloading package stopwords to /root/nltk_data...\n",
            "[nltk_data]    |   Unzipping corpora/stopwords.zip.\n",
            "[nltk_data]    | Downloading package treebank to /root/nltk_data...\n",
            "[nltk_data]    |   Unzipping corpora/treebank.zip.\n",
            "[nltk_data]    | Downloading package twitter_samples to\n",
            "[nltk_data]    |     /root/nltk_data...\n",
            "[nltk_data]    |   Unzipping corpora/twitter_samples.zip.\n",
            "[nltk_data]    | Downloading package omw to /root/nltk_data...\n",
            "[nltk_data]    |   Unzipping corpora/omw.zip.\n",
            "[nltk_data]    | Downloading package wordnet to /root/nltk_data...\n",
            "[nltk_data]    |   Unzipping corpora/wordnet.zip.\n",
            "[nltk_data]    | Downloading package wordnet_ic to /root/nltk_data...\n",
            "[nltk_data]    |   Unzipping corpora/wordnet_ic.zip.\n",
            "[nltk_data]    | Downloading package words to /root/nltk_data...\n",
            "[nltk_data]    |   Unzipping corpora/words.zip.\n",
            "[nltk_data]    | Downloading package maxent_ne_chunker to\n",
            "[nltk_data]    |     /root/nltk_data...\n",
            "[nltk_data]    |   Unzipping chunkers/maxent_ne_chunker.zip.\n",
            "[nltk_data]    | Downloading package punkt to /root/nltk_data...\n",
            "[nltk_data]    |   Unzipping tokenizers/punkt.zip.\n",
            "[nltk_data]    | Downloading package snowball_data to\n",
            "[nltk_data]    |     /root/nltk_data...\n",
            "[nltk_data]    | Downloading package averaged_perceptron_tagger to\n",
            "[nltk_data]    |     /root/nltk_data...\n",
            "[nltk_data]    |   Unzipping taggers/averaged_perceptron_tagger.zip.\n",
            "[nltk_data]    | \n",
            "[nltk_data]  Done downloading collection popular\n"
          ],
          "name": "stdout"
        },
        {
          "output_type": "execute_result",
          "data": {
            "text/plain": [
              "True"
            ]
          },
          "metadata": {
            "tags": []
          },
          "execution_count": 3
        }
      ]
    },
    {
      "cell_type": "code",
      "metadata": {
        "id": "D5Oxatyxkma0",
        "colab_type": "code",
        "outputId": "2f6350a5-a8a6-4a76-cb32-2d9db22b5f0f",
        "colab": {
          "base_uri": "https://localhost:8080/",
          "height": 122
        }
      },
      "source": [
        "from google.colab import drive\n",
        "drive.mount('/content/drive')"
      ],
      "execution_count": 4,
      "outputs": [
        {
          "output_type": "stream",
          "text": [
            "Go to this URL in a browser: https://accounts.google.com/o/oauth2/auth?client_id=947318989803-6bn6qk8qdgf4n4g3pfee6491hc0brc4i.apps.googleusercontent.com&redirect_uri=urn%3aietf%3awg%3aoauth%3a2.0%3aoob&response_type=code&scope=email%20https%3a%2f%2fwww.googleapis.com%2fauth%2fdocs.test%20https%3a%2f%2fwww.googleapis.com%2fauth%2fdrive%20https%3a%2f%2fwww.googleapis.com%2fauth%2fdrive.photos.readonly%20https%3a%2f%2fwww.googleapis.com%2fauth%2fpeopleapi.readonly\n",
            "\n",
            "Enter your authorization code:\n",
            "··········\n",
            "Mounted at /content/drive\n"
          ],
          "name": "stdout"
        }
      ]
    },
    {
      "cell_type": "code",
      "metadata": {
        "id": "gTE96hmhlRLV",
        "colab_type": "code",
        "colab": {
          "base_uri": "https://localhost:8080/",
          "height": 34
        },
        "outputId": "09808c3a-ad46-4211-b849-dc2b6ea93a59"
      },
      "source": [
        "cd"
      ],
      "execution_count": 5,
      "outputs": [
        {
          "output_type": "stream",
          "text": [
            "/root\n"
          ],
          "name": "stdout"
        }
      ]
    },
    {
      "cell_type": "code",
      "metadata": {
        "id": "TOFS99cjkjO_",
        "colab_type": "code",
        "outputId": "8dc5d3fe-7eb2-495e-e1f9-3b577f772325",
        "colab": {
          "base_uri": "https://localhost:8080/",
          "height": 34
        }
      },
      "source": [
        "%cd /content/drive/My Drive/Colab Notebooks/Wine recommender/Knight ML Assignment/Data"
      ],
      "execution_count": 6,
      "outputs": [
        {
          "output_type": "stream",
          "text": [
            "/content/drive/My Drive/Colab Notebooks/Wine recommender/Knight ML Assignment/Data\n"
          ],
          "name": "stdout"
        }
      ]
    },
    {
      "cell_type": "code",
      "metadata": {
        "id": "KFjShFmFlPOb",
        "colab_type": "code",
        "outputId": "ef301b25-034e-4202-b73d-7a7edd7abab5",
        "colab": {
          "base_uri": "https://localhost:8080/",
          "height": 34
        }
      },
      "source": [
        "%ls"
      ],
      "execution_count": 7,
      "outputs": [
        {
          "output_type": "stream",
          "text": [
            "\u001b[0m\u001b[01;34mcatboost_info\u001b[0m/  test.csv  train.csv\n"
          ],
          "name": "stdout"
        }
      ]
    },
    {
      "cell_type": "code",
      "metadata": {
        "_uuid": "8f2839f25d086af736a60e9eeb907d3b93b6e0e5",
        "_cell_guid": "b1076dfc-b9ad-4769-8c92-a6c4dae69d19",
        "trusted": true,
        "id": "9Cm9RD_3kQbv",
        "colab_type": "code",
        "colab": {}
      },
      "source": [
        "import numpy as np\n",
        "import pandas as pd"
      ],
      "execution_count": 0,
      "outputs": []
    },
    {
      "cell_type": "code",
      "metadata": {
        "_cell_guid": "79c7e3d0-c299-4dcb-8224-4455121ee9b0",
        "_uuid": "d629ff2d2480ee46fbb7e2d37f6b5fab8052498a",
        "trusted": true,
        "id": "cwVlUhD3kQb0",
        "colab_type": "code",
        "colab": {}
      },
      "source": [
        "data=pd.read_csv('train.csv')"
      ],
      "execution_count": 0,
      "outputs": []
    },
    {
      "cell_type": "code",
      "metadata": {
        "trusted": true,
        "_uuid": "a46224f97fffd44581a0ba2154a18ceddf3d44fc",
        "id": "bo-XceGIkQb3",
        "colab_type": "code",
        "outputId": "d88cdc60-7764-4b54-f74e-33423f6aa2a1",
        "colab": {
          "base_uri": "https://localhost:8080/",
          "height": 340
        }
      },
      "source": [
        "data.info()"
      ],
      "execution_count": 10,
      "outputs": [
        {
          "output_type": "stream",
          "text": [
            "<class 'pandas.core.frame.DataFrame'>\n",
            "RangeIndex: 82657 entries, 0 to 82656\n",
            "Data columns (total 12 columns):\n",
            " #   Column              Non-Null Count  Dtype  \n",
            "---  ------              --------------  -----  \n",
            " 0   user_name           63264 non-null  object \n",
            " 1   country             82622 non-null  object \n",
            " 2   review_title        82657 non-null  object \n",
            " 3   review_description  82657 non-null  object \n",
            " 4   designation         59010 non-null  object \n",
            " 5   points              82657 non-null  int64  \n",
            " 6   price               77088 non-null  float64\n",
            " 7   province            82622 non-null  object \n",
            " 8   region_1            69903 non-null  object \n",
            " 9   region_2            35949 non-null  object \n",
            " 10  winery              82657 non-null  object \n",
            " 11  variety             82657 non-null  object \n",
            "dtypes: float64(1), int64(1), object(10)\n",
            "memory usage: 7.6+ MB\n"
          ],
          "name": "stdout"
        }
      ]
    },
    {
      "cell_type": "code",
      "metadata": {
        "trusted": true,
        "_uuid": "6c96bb9077039c78a6f18b45db2fe888a6601a8c",
        "id": "jmOvbQ1bkQb6",
        "colab_type": "code",
        "outputId": "ce601b77-9d9f-45ab-e7e8-36fc0f8297f2",
        "colab": {
          "base_uri": "https://localhost:8080/",
          "height": 421
        }
      },
      "source": [
        "total = data.isnull().sum().sort_values(ascending = False)\n",
        "percent = (data.isnull().sum()/data.isnull().count()*100).sort_values(ascending = False)\n",
        "missing_data  = pd.concat([total, percent], axis=1, keys=['Total', 'Percent'])\n",
        "missing_data"
      ],
      "execution_count": 11,
      "outputs": [
        {
          "output_type": "execute_result",
          "data": {
            "text/html": [
              "<div>\n",
              "<style scoped>\n",
              "    .dataframe tbody tr th:only-of-type {\n",
              "        vertical-align: middle;\n",
              "    }\n",
              "\n",
              "    .dataframe tbody tr th {\n",
              "        vertical-align: top;\n",
              "    }\n",
              "\n",
              "    .dataframe thead th {\n",
              "        text-align: right;\n",
              "    }\n",
              "</style>\n",
              "<table border=\"1\" class=\"dataframe\">\n",
              "  <thead>\n",
              "    <tr style=\"text-align: right;\">\n",
              "      <th></th>\n",
              "      <th>Total</th>\n",
              "      <th>Percent</th>\n",
              "    </tr>\n",
              "  </thead>\n",
              "  <tbody>\n",
              "    <tr>\n",
              "      <th>region_2</th>\n",
              "      <td>46708</td>\n",
              "      <td>56.508221</td>\n",
              "    </tr>\n",
              "    <tr>\n",
              "      <th>designation</th>\n",
              "      <td>23647</td>\n",
              "      <td>28.608587</td>\n",
              "    </tr>\n",
              "    <tr>\n",
              "      <th>user_name</th>\n",
              "      <td>19393</td>\n",
              "      <td>23.462018</td>\n",
              "    </tr>\n",
              "    <tr>\n",
              "      <th>region_1</th>\n",
              "      <td>12754</td>\n",
              "      <td>15.430030</td>\n",
              "    </tr>\n",
              "    <tr>\n",
              "      <th>price</th>\n",
              "      <td>5569</td>\n",
              "      <td>6.737481</td>\n",
              "    </tr>\n",
              "    <tr>\n",
              "      <th>province</th>\n",
              "      <td>35</td>\n",
              "      <td>0.042344</td>\n",
              "    </tr>\n",
              "    <tr>\n",
              "      <th>country</th>\n",
              "      <td>35</td>\n",
              "      <td>0.042344</td>\n",
              "    </tr>\n",
              "    <tr>\n",
              "      <th>variety</th>\n",
              "      <td>0</td>\n",
              "      <td>0.000000</td>\n",
              "    </tr>\n",
              "    <tr>\n",
              "      <th>winery</th>\n",
              "      <td>0</td>\n",
              "      <td>0.000000</td>\n",
              "    </tr>\n",
              "    <tr>\n",
              "      <th>points</th>\n",
              "      <td>0</td>\n",
              "      <td>0.000000</td>\n",
              "    </tr>\n",
              "    <tr>\n",
              "      <th>review_description</th>\n",
              "      <td>0</td>\n",
              "      <td>0.000000</td>\n",
              "    </tr>\n",
              "    <tr>\n",
              "      <th>review_title</th>\n",
              "      <td>0</td>\n",
              "      <td>0.000000</td>\n",
              "    </tr>\n",
              "  </tbody>\n",
              "</table>\n",
              "</div>"
            ],
            "text/plain": [
              "                    Total    Percent\n",
              "region_2            46708  56.508221\n",
              "designation         23647  28.608587\n",
              "user_name           19393  23.462018\n",
              "region_1            12754  15.430030\n",
              "price                5569   6.737481\n",
              "province               35   0.042344\n",
              "country                35   0.042344\n",
              "variety                 0   0.000000\n",
              "winery                  0   0.000000\n",
              "points                  0   0.000000\n",
              "review_description      0   0.000000\n",
              "review_title            0   0.000000"
            ]
          },
          "metadata": {
            "tags": []
          },
          "execution_count": 11
        }
      ]
    },
    {
      "cell_type": "code",
      "metadata": {
        "trusted": true,
        "_uuid": "88695da049b1cfbfee5fa5f37b58323a5e8ff5c6",
        "id": "Gy7mUc19kQb9",
        "colab_type": "code",
        "colab": {}
      },
      "source": [
        "data=data.dropna(subset=['price'])"
      ],
      "execution_count": 0,
      "outputs": []
    },
    {
      "cell_type": "code",
      "metadata": {
        "trusted": true,
        "_uuid": "51838c6a33f2405f9d983b54055a981c87ac6140",
        "id": "7QRhQ0q6kQcE",
        "colab_type": "code",
        "outputId": "1f1e432d-2426-4e81-ba2d-4dcb8d206fa7",
        "colab": {
          "base_uri": "https://localhost:8080/",
          "height": 51
        }
      },
      "source": [
        "print(\"Total number of examples: \", data.shape[0])\n",
        "print(\"Number of examples with the same title and description: \", data[data.duplicated(['review_description','review_title'])].shape[0])"
      ],
      "execution_count": 13,
      "outputs": [
        {
          "output_type": "stream",
          "text": [
            "Total number of examples:  77088\n",
            "Number of examples with the same title and description:  4732\n"
          ],
          "name": "stdout"
        }
      ]
    },
    {
      "cell_type": "code",
      "metadata": {
        "trusted": true,
        "_uuid": "fba0b411165819103f0ddc93a8d4afb6ac48b8dd",
        "id": "XlbrHWjIkQcG",
        "colab_type": "code",
        "colab": {}
      },
      "source": [
        "data=data.drop_duplicates(['review_description','review_title'])\n",
        "data=data.reset_index(drop=True)"
      ],
      "execution_count": 0,
      "outputs": []
    },
    {
      "cell_type": "code",
      "metadata": {
        "trusted": true,
        "_uuid": "05de805d22e0bb89ebfa953a13b18e078674a3e4",
        "id": "2x4lyVXNkQcJ",
        "colab_type": "code",
        "colab": {}
      },
      "source": [
        "data=data.fillna(-1)"
      ],
      "execution_count": 0,
      "outputs": []
    },
    {
      "cell_type": "code",
      "metadata": {
        "trusted": true,
        "_uuid": "6816ed0f935779feec1522abc9f31b08a3ef8395",
        "id": "AVxJzaonkQcR",
        "colab_type": "code",
        "colab": {}
      },
      "source": [
        "from nltk.corpus import stopwords\n",
        "from nltk.stem.porter import PorterStemmer\n",
        "from sklearn.feature_extraction.text import CountVectorizer\n",
        "import nltk\n",
        "import string\n",
        "from wordcloud import WordCloud, STOPWORDS\n",
        "import re\n",
        "\n",
        "from nltk.tokenize import RegexpTokenizer"
      ],
      "execution_count": 0,
      "outputs": []
    },
    {
      "cell_type": "code",
      "metadata": {
        "trusted": true,
        "_uuid": "d0a950d978c6b3206376b30905042b9f3d046e02",
        "id": "Dayawl_fkQcX",
        "colab_type": "code",
        "outputId": "34414ad0-15ff-41ed-a91d-5fae740572ba",
        "colab": {
          "base_uri": "https://localhost:8080/",
          "height": 221
        }
      },
      "source": [
        "data['review_description']= data['review_description'].str.lower()\n",
        "data['review_description']= data['review_description'].apply(lambda elem: re.sub('[^a-zA-Z]',' ', elem))  \n",
        "data['review_description']"
      ],
      "execution_count": 17,
      "outputs": [
        {
          "output_type": "execute_result",
          "data": {
            "text/plain": [
              "0        classic chardonnay aromas of apple  pear and h...\n",
              "1        this wine is near equal parts syrah and merlot...\n",
              "2        barolo conca opens with inky dark concentratio...\n",
              "3        it s impressive what a small addition of sauvi...\n",
              "4        this ripe  sweet wine is rich and full of drie...\n",
              "                               ...                        \n",
              "72351    made in a drier  tarter style than the winery ...\n",
              "72352    hot earth  baked cherry and mild vanilla aroma...\n",
              "72353    pungent  high pitched notes of turmeric and dr...\n",
              "72354    this is a wine that s not just lively and frui...\n",
              "72355    a big  rich  vital cabernet with immediate att...\n",
              "Name: review_description, Length: 72356, dtype: object"
            ]
          },
          "metadata": {
            "tags": []
          },
          "execution_count": 17
        }
      ]
    },
    {
      "cell_type": "code",
      "metadata": {
        "trusted": true,
        "_uuid": "bb18ae1ab19fc6b6b2d8f53f2f1db04bc5ae2433",
        "id": "SdTDrNZ8kQca",
        "colab_type": "code",
        "outputId": "caf52e86-5d95-4ce1-8ad5-4ce03ed674eb",
        "colab": {
          "base_uri": "https://localhost:8080/",
          "height": 119
        }
      },
      "source": [
        "tokenizer = RegexpTokenizer(r'\\w+')\n",
        "words_descriptions = data['review_description'].apply(tokenizer.tokenize)\n",
        "words_descriptions.head()"
      ],
      "execution_count": 18,
      "outputs": [
        {
          "output_type": "execute_result",
          "data": {
            "text/plain": [
              "0    [classic, chardonnay, aromas, of, apple, pear,...\n",
              "1    [this, wine, is, near, equal, parts, syrah, an...\n",
              "2    [barolo, conca, opens, with, inky, dark, conce...\n",
              "3    [it, s, impressive, what, a, small, addition, ...\n",
              "4    [this, ripe, sweet, wine, is, rich, and, full,...\n",
              "Name: review_description, dtype: object"
            ]
          },
          "metadata": {
            "tags": []
          },
          "execution_count": 18
        }
      ]
    },
    {
      "cell_type": "code",
      "metadata": {
        "trusted": true,
        "_uuid": "c90fcac6315bd41fdf62c359db6a84d410dc07cb",
        "id": "_MYJkrTBkQcf",
        "colab_type": "code",
        "outputId": "57a1340e-e788-4830-99b2-6636ffd56744",
        "colab": {
          "base_uri": "https://localhost:8080/",
          "height": 34
        }
      },
      "source": [
        "all_words = [word for tokens in words_descriptions for word in tokens]\n",
        "data['description_lengths']= [len(tokens) for tokens in words_descriptions]\n",
        "VOCAB = sorted(list(set(all_words)))\n",
        "print(\"%s words total, with a vocabulary size of %s\" % (len(all_words), len(VOCAB)))"
      ],
      "execution_count": 19,
      "outputs": [
        {
          "output_type": "stream",
          "text": [
            "3005587 words total, with a vocabulary size of 24598\n"
          ],
          "name": "stdout"
        }
      ]
    },
    {
      "cell_type": "code",
      "metadata": {
        "trusted": true,
        "_uuid": "2e36207a4148bf41368ed6ec66226f00a5767373",
        "id": "wsde-crUkQcj",
        "colab_type": "code",
        "outputId": "2370178e-da50-43c1-efc7-073d02b2423d",
        "colab": {
          "base_uri": "https://localhost:8080/",
          "height": 1000
        }
      },
      "source": [
        "from collections import Counter\n",
        "count_all_words = Counter(all_words)\n",
        "count_all_words.most_common(100)"
      ],
      "execution_count": 20,
      "outputs": [
        {
          "output_type": "execute_result",
          "data": {
            "text/plain": [
              "[('and', 195443),\n",
              " ('the', 123934),\n",
              " ('a', 101546),\n",
              " ('of', 96372),\n",
              " ('with', 66979),\n",
              " ('this', 64031),\n",
              " ('is', 53536),\n",
              " ('it', 50525),\n",
              " ('wine', 44107),\n",
              " ('in', 36772),\n",
              " ('flavors', 36328),\n",
              " ('to', 32097),\n",
              " ('s', 30889),\n",
              " ('fruit', 27279),\n",
              " ('on', 25572),\n",
              " ('that', 22422),\n",
              " ('palate', 20593),\n",
              " ('aromas', 20064),\n",
              " ('from', 19210),\n",
              " ('finish', 19171),\n",
              " ('acidity', 18683),\n",
              " ('but', 17951),\n",
              " ('tannins', 17573),\n",
              " ('cherry', 17191),\n",
              " ('drink', 17178),\n",
              " ('black', 16575),\n",
              " ('ripe', 15084),\n",
              " ('are', 14521),\n",
              " ('has', 13565),\n",
              " ('for', 12674),\n",
              " ('red', 12336),\n",
              " ('by', 11320),\n",
              " ('oak', 10804),\n",
              " ('notes', 10477),\n",
              " ('dry', 10442),\n",
              " ('spice', 10267),\n",
              " ('as', 10180),\n",
              " ('its', 10078),\n",
              " ('now', 10035),\n",
              " ('an', 9973),\n",
              " ('rich', 9909),\n",
              " ('nose', 9350),\n",
              " ('berry', 9109),\n",
              " ('full', 9009),\n",
              " ('fresh', 8840),\n",
              " ('plum', 8147),\n",
              " ('blend', 8016),\n",
              " ('soft', 7672),\n",
              " ('sweet', 7569),\n",
              " ('well', 7553),\n",
              " ('fruits', 7413),\n",
              " ('cabernet', 7275),\n",
              " ('light', 7163),\n",
              " ('blackberry', 7152),\n",
              " ('apple', 7088),\n",
              " ('texture', 6926),\n",
              " ('crisp', 6751),\n",
              " ('dark', 6748),\n",
              " ('bodied', 6678),\n",
              " ('through', 6557),\n",
              " ('there', 6488),\n",
              " ('shows', 6395),\n",
              " ('vanilla', 6342),\n",
              " ('offers', 6325),\n",
              " ('while', 6175),\n",
              " ('at', 6058),\n",
              " ('citrus', 5870),\n",
              " ('pepper', 5835),\n",
              " ('more', 5802),\n",
              " ('white', 5733),\n",
              " ('raspberry', 5668),\n",
              " ('very', 5627),\n",
              " ('good', 5615),\n",
              " ('green', 5371),\n",
              " ('bright', 5311),\n",
              " ('juicy', 5311),\n",
              " ('fruity', 5280),\n",
              " ('lemon', 5263),\n",
              " ('some', 5224),\n",
              " ('firm', 5137),\n",
              " ('chocolate', 5024),\n",
              " ('sauvignon', 4964),\n",
              " ('balanced', 4847),\n",
              " ('will', 4802),\n",
              " ('not', 4716),\n",
              " ('like', 4685),\n",
              " ('pinot', 4610),\n",
              " ('years', 4595),\n",
              " ('touch', 4590),\n",
              " ('up', 4485),\n",
              " ('character', 4387),\n",
              " ('out', 4302),\n",
              " ('dried', 4283),\n",
              " ('structure', 4249),\n",
              " ('fine', 4200),\n",
              " ('all', 4178),\n",
              " ('spicy', 4140),\n",
              " ('be', 4133),\n",
              " ('vineyard', 4094),\n",
              " ('pear', 4055)]"
            ]
          },
          "metadata": {
            "tags": []
          },
          "execution_count": 20
        }
      ]
    },
    {
      "cell_type": "code",
      "metadata": {
        "trusted": true,
        "_uuid": "d0b244e4a7f750c7d4146269a7e73e79d0d36e0a",
        "id": "CGFc9Cl8kQcp",
        "colab_type": "code",
        "colab": {}
      },
      "source": [
        "stopword_list = stopwords.words('english')\n",
        "ps = PorterStemmer()\n",
        "words_descriptions = words_descriptions.apply(lambda elem: [word for word in elem if not word in stopword_list])\n",
        "words_descriptions = words_descriptions.apply(lambda elem: [ps.stem(word) for word in elem])\n",
        "data['description_cleaned'] = words_descriptions.apply(lambda elem: ' '.join(elem))"
      ],
      "execution_count": 0,
      "outputs": []
    },
    {
      "cell_type": "code",
      "metadata": {
        "trusted": true,
        "_uuid": "b39a3090275ea9829feb4ac0c4818a98c31840bf",
        "id": "Re3dnx0ZkQcs",
        "colab_type": "code",
        "outputId": "b320b616-4202-4bc7-cd77-853ac0c3b219",
        "colab": {
          "base_uri": "https://localhost:8080/",
          "height": 1000
        }
      },
      "source": [
        "all_words = [word for tokens in words_descriptions for word in tokens]\n",
        "VOCAB = sorted(list(set(all_words)))\n",
        "print(\"%s words total, with a vocabulary size of %s\" % (len(all_words), len(VOCAB)))\n",
        "count_all_words = Counter(all_words)\n",
        "count_all_words.most_common(100)"
      ],
      "execution_count": 22,
      "outputs": [
        {
          "output_type": "stream",
          "text": [
            "1828938 words total, with a vocabulary size of 17420\n"
          ],
          "name": "stdout"
        },
        {
          "output_type": "execute_result",
          "data": {
            "text/plain": [
              "[('wine', 45620),\n",
              " ('flavor', 41092),\n",
              " ('fruit', 34920),\n",
              " ('finish', 22437),\n",
              " ('acid', 21500),\n",
              " ('aroma', 20885),\n",
              " ('palat', 20662),\n",
              " ('cherri', 20039),\n",
              " ('drink', 19350),\n",
              " ('tannin', 18888),\n",
              " ('black', 16597),\n",
              " ('ripe', 16119),\n",
              " ('dri', 15324),\n",
              " ('note', 13464),\n",
              " ('spice', 12866),\n",
              " ('red', 12466),\n",
              " ('rich', 12417),\n",
              " ('fresh', 11151),\n",
              " ('oak', 11132),\n",
              " ('show', 10514),\n",
              " ('berri', 10463),\n",
              " ('nose', 9359),\n",
              " ('blend', 9166),\n",
              " ('full', 9062),\n",
              " ('plum', 8916),\n",
              " ('textur', 8909),\n",
              " ('sweet', 8870),\n",
              " ('balanc', 8678),\n",
              " ('blackberri', 8643),\n",
              " ('bodi', 8490),\n",
              " ('offer', 8305),\n",
              " ('appl', 8083),\n",
              " ('soft', 7980),\n",
              " ('age', 7918),\n",
              " ('well', 7561),\n",
              " ('cabernet', 7393),\n",
              " ('light', 7377),\n",
              " ('structur', 7361),\n",
              " ('crisp', 7205),\n",
              " ('dark', 6798),\n",
              " ('raspberri', 6712),\n",
              " ('fruiti', 6595),\n",
              " ('herb', 6446),\n",
              " ('vanilla', 6342),\n",
              " ('give', 6298),\n",
              " ('hint', 6091),\n",
              " ('miner', 6030),\n",
              " ('pepper', 5933),\n",
              " ('year', 5931),\n",
              " ('citru', 5870),\n",
              " ('white', 5806),\n",
              " ('good', 5691),\n",
              " ('touch', 5679),\n",
              " ('juici', 5524),\n",
              " ('bright', 5520),\n",
              " ('lemon', 5518),\n",
              " ('green', 5481),\n",
              " ('vineyard', 5430),\n",
              " ('currant', 5397),\n",
              " ('concentr', 5384),\n",
              " ('firm', 5243),\n",
              " ('complex', 5181),\n",
              " ('like', 5118),\n",
              " ('chocol', 5025),\n",
              " ('sauvignon', 4980),\n",
              " ('pinot', 4876),\n",
              " ('feel', 4818),\n",
              " ('toast', 4808),\n",
              " ('fine', 4720),\n",
              " ('pear', 4590),\n",
              " ('come', 4521),\n",
              " ('peach', 4517),\n",
              " ('charact', 4440),\n",
              " ('spici', 4309),\n",
              " ('bottl', 4306),\n",
              " ('style', 4231),\n",
              " ('tart', 4229),\n",
              " ('merlot', 4077),\n",
              " ('make', 4059),\n",
              " ('smooth', 4058),\n",
              " ('open', 4049),\n",
              " ('tast', 4019),\n",
              " ('eleg', 3967),\n",
              " ('medium', 3866),\n",
              " ('made', 3818),\n",
              " ('wood', 3756),\n",
              " ('syrah', 3711),\n",
              " ('lime', 3710),\n",
              " ('tannic', 3656),\n",
              " ('herbal', 3651),\n",
              " ('round', 3630),\n",
              " ('lead', 3627),\n",
              " ('long', 3607),\n",
              " ('bit', 3601),\n",
              " ('mouth', 3582),\n",
              " ('chardonnay', 3529),\n",
              " ('intens', 3525),\n",
              " ('licoric', 3506),\n",
              " ('also', 3467),\n",
              " ('bake', 3458)]"
            ]
          },
          "metadata": {
            "tags": []
          },
          "execution_count": 22
        }
      ]
    },
    {
      "cell_type": "code",
      "metadata": {
        "trusted": true,
        "_uuid": "263347ba58de75c86b65886357729fa21e6ed87a",
        "id": "kKOnrC1QkQcx",
        "colab_type": "code",
        "colab": {}
      },
      "source": [
        "from sklearn.feature_extraction.text import CountVectorizer,TfidfVectorizer\n",
        "from sklearn.model_selection import train_test_split\n",
        "from catboost import Pool, CatBoostRegressor, cv\n",
        "\n",
        "def prepare_dataframe(vect, data, features=True):\n",
        "    vectorized=vect.fit_transform(data['description_cleaned']).toarray()\n",
        "    vectorized=pd.DataFrame(vectorized)\n",
        "    if features == True:\n",
        "        X=data.drop(columns=['user_name','points','review_title','review_description','description_cleaned'])\n",
        "        X=X.fillna(-1)\n",
        "        print(X.columns)\n",
        "        X=pd.concat([X.reset_index(drop=True),vectorized.reset_index(drop=True)],axis=1)\n",
        "        categorical_features_indices =[0,1,3,4,5,6,7,8,9,10]\n",
        "    else:\n",
        "        X=vectorized\n",
        "        categorical_features_indices =[]\n",
        "    y=data['points']\n",
        "    return X,y,categorical_features_indices"
      ],
      "execution_count": 0,
      "outputs": []
    },
    {
      "cell_type": "code",
      "metadata": {
        "trusted": true,
        "_uuid": "a8ded5683a180a94a5c262c474fb76bc33c93824",
        "id": "vOLsD5P8kQcz",
        "colab_type": "code",
        "colab": {}
      },
      "source": [
        "#model definintion and training.\n",
        "def perform_model(X_train, y_train,X_valid, y_valid,X_test, y_test,categorical_features_indices,name):\n",
        "    model = CatBoostRegressor(\n",
        "        random_seed = 100,\n",
        "        loss_function = 'RMSE',\n",
        "        iterations=800,\n",
        "    )\n",
        "    \n",
        "    model.fit(\n",
        "        X_train, y_train,\n",
        "        cat_features = categorical_features_indices,\n",
        "        verbose=False,\n",
        "        eval_set=(X_valid, y_valid)\n",
        "    )\n",
        "    \n",
        "    print(name+\" technique RMSE on training data: \"+ model.score(X_train, y_train).astype(str))\n",
        "    print(name+\" technique RMSE on test data: \"+ model.score(X_test, y_test).astype(str))\n",
        "    "
      ],
      "execution_count": 0,
      "outputs": []
    },
    {
      "cell_type": "code",
      "metadata": {
        "trusted": true,
        "_uuid": "b6027dd40421e3e0d24a504e46cfc7256e82cf0e",
        "id": "ieSyx8_WkQc1",
        "colab_type": "code",
        "colab": {}
      },
      "source": [
        "def prepare_variable(vect, data, features_append=True):\n",
        "    X, y , categorical_features_indices = prepare_dataframe(vect, data,features_append)\n",
        "    X_train, X_test, y_train, y_test = train_test_split(X, y, test_size=0.05, \n",
        "                                                        random_state=42)\n",
        "    X_train, X_valid, y_train, y_valid = train_test_split(X_train, y_train, test_size=0.2, \n",
        "                                                        random_state=52)\n",
        "    return X_train, y_train,X_valid, y_valid,X_test, y_test, categorical_features_indices"
      ],
      "execution_count": 0,
      "outputs": []
    },
    {
      "cell_type": "code",
      "metadata": {
        "trusted": true,
        "_uuid": "020c5f00f339e8a0ce1890cae5d8d52dd7382caf",
        "id": "l87x2BhikQc4",
        "colab_type": "code",
        "outputId": "fff2a63e-0ddf-4f61-d18b-13b68b90517b",
        "colab": {
          "base_uri": "https://localhost:8080/",
          "height": 102
        }
      },
      "source": [
        "vect= CountVectorizer(analyzer='word', token_pattern=r'\\w+',max_features=500)\n",
        "training_variable=prepare_variable(vect, data)\n",
        "perform_model(*training_variable, 'Bag of Words Counts')"
      ],
      "execution_count": 26,
      "outputs": [
        {
          "output_type": "stream",
          "text": [
            "Index(['country', 'designation', 'price', 'province', 'region_1', 'region_2',\n",
            "       'winery', 'variety', 'description_lengths'],\n",
            "      dtype='object')\n",
            "Bag of Words Counts technique RMSE on training data: 0.8166571093350081\n",
            "Bag of Words Counts technique RMSE on test data: 0.7820796951590161\n"
          ],
          "name": "stdout"
        }
      ]
    },
    {
      "cell_type": "code",
      "metadata": {
        "trusted": true,
        "_uuid": "7e68b71556689df5e1802d457f50bf2d6cc3076e",
        "id": "-G_1ZZI7kQc6",
        "colab_type": "code",
        "outputId": "e26f4117-2509-4bc6-b5be-a56a8bc57edb",
        "colab": {
          "base_uri": "https://localhost:8080/",
          "height": 68
        }
      },
      "source": [
        "vect= TfidfVectorizer(analyzer='word', token_pattern=r'\\w+',max_features=500)\n",
        "training_variable=prepare_variable(vect, data)\n"
      ],
      "execution_count": 27,
      "outputs": [
        {
          "output_type": "stream",
          "text": [
            "Index(['country', 'designation', 'price', 'province', 'region_1', 'region_2',\n",
            "       'winery', 'variety', 'description_lengths'],\n",
            "      dtype='object')\n"
          ],
          "name": "stdout"
        }
      ]
    },
    {
      "cell_type": "code",
      "metadata": {
        "trusted": true,
        "_uuid": "cae27aacac029dcd1861f6ff48d5599c9c6b8210",
        "id": "b3RMNgMukQc-",
        "colab_type": "code",
        "outputId": "69a13551-96a2-4106-8cd0-0dfb16a57255",
        "colab": {
          "base_uri": "https://localhost:8080/",
          "height": 51
        }
      },
      "source": [
        "vect= CountVectorizer(analyzer='word', token_pattern=r'\\w+',max_features=500)\n",
        "training_variable=prepare_variable(vect, data, False)\n",
        "perform_model(*training_variable, 'Bag of Words Counts')"
      ],
      "execution_count": 28,
      "outputs": [
        {
          "output_type": "stream",
          "text": [
            "Bag of Words Counts technique RMSE on training data: 0.6815098822033031\n",
            "Bag of Words Counts technique RMSE on test data: 0.6245763466349764\n"
          ],
          "name": "stdout"
        }
      ]
    },
    {
      "cell_type": "code",
      "metadata": {
        "trusted": true,
        "_uuid": "39047ebc7236ef0bfe480ee65c82d994e1d30978",
        "id": "U8Sw-ZMmkQdB",
        "colab_type": "code",
        "outputId": "245c7224-997c-4b4d-8070-4172ee077b76",
        "colab": {
          "base_uri": "https://localhost:8080/",
          "height": 51
        }
      },
      "source": [
        "vect= TfidfVectorizer(analyzer='word', token_pattern=r'\\w+',max_features=500)\n",
        "training_variable=prepare_variable(vect, data, False)\n",
        "perform_model(*training_variable, 'TF-IDF')"
      ],
      "execution_count": 29,
      "outputs": [
        {
          "output_type": "stream",
          "text": [
            "TF-IDF technique RMSE on training data: 0.6913363079985584\n",
            "TF-IDF technique RMSE on test data: 0.6268573789139431\n"
          ],
          "name": "stdout"
        }
      ]
    }
  ]
}